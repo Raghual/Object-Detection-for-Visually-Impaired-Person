{
 "cells": [
  {
   "cell_type": "code",
   "execution_count": 1,
   "metadata": {
    "slideshow": {
     "slide_type": "notes"
    }
   },
   "outputs": [],
   "source": [
    "import pytesseract as tess\n",
    "import os.path\n",
    "from os import path\n",
    "import cv2\n",
    "import os\n",
    "from gtts import gTTS\n",
    "from PIL import Image\n"
   ]
  },
  {
   "cell_type": "code",
   "execution_count": 19,
   "metadata": {},
   "outputs": [],
   "source": [
    "inp_path=\"C:\\\\Users\\\\K\\\\Desktop\\\\quoteip3.png\"\n",
    "out_path=\"C:\\\\Users\\\\K\\\\Desktop\\speech\\\\ocr.mp3\""
   ]
  },
  {
   "cell_type": "code",
   "execution_count": 20,
   "metadata": {},
   "outputs": [],
   "source": [
    "def OCR(inp_path,out_path):\n",
    "    img = Image.open(inp_path)\n",
    "    textt = tess.image_to_string(img)\n",
    "    tess.pytesseract.tesseract_cmd = r'C:\\\\Program Files\\\\Tesseract-OCR\\\\tesseract.exe'\n",
    "    imagee = cv2.imread(inp_path)\n",
    "    mytex = textt\n",
    "    language = 'en'\n",
    "    myobj = gTTS(text=mytex, lang=language, slow=False)\n",
    "    print(textt)\n",
    "    myobj.save(out_path)\n",
    "    os.system(out_path)\n",
    "    try:\n",
    "        if(path.exists(inp_path) and path.exists(out_path)):\n",
    "            return True\n",
    "        else:\n",
    "            return False\n",
    "    except(e):\n",
    "        return False\n",
    "    \n",
    "        \n",
    "        \n"
   ]
  },
  {
   "cell_type": "code",
   "execution_count": 21,
   "metadata": {},
   "outputs": [
    {
     "name": "stdout",
     "output_type": "stream",
     "text": [
      "IT’S NOT ABOUT\n",
      "BETTER TIME\n",
      "UE ESS\n",
      "A\n",
      "ae es\n",
      "UE ES\n",
      "\f",
      "\n",
      "True\n"
     ]
    }
   ],
   "source": [
    "if(OCR(inp_path,out_path)==True):\n",
    "    print(True)"
   ]
  },
  {
   "cell_type": "code",
   "execution_count": null,
   "metadata": {},
   "outputs": [],
   "source": []
  }
 ],
 "metadata": {
  "celltoolbar": "Slideshow",
  "kernelspec": {
   "display_name": "Python 3",
   "language": "python",
   "name": "python3"
  },
  "language_info": {
   "codemirror_mode": {
    "name": "ipython",
    "version": 3
   },
   "file_extension": ".py",
   "mimetype": "text/x-python",
   "name": "python",
   "nbconvert_exporter": "python",
   "pygments_lexer": "ipython3",
   "version": "3.8.5"
  }
 },
 "nbformat": 4,
 "nbformat_minor": 4
}
